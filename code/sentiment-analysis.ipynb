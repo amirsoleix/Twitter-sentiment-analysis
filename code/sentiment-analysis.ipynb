{
 "cells": [
  {
   "attachments": {},
   "cell_type": "markdown",
   "metadata": {},
   "source": [
    "# 2. Sentiment Analysis\n",
    "### 2.0 Importing Libraries and Data"
   ]
  },
  {
   "cell_type": "code",
   "execution_count": 2,
   "metadata": {},
   "outputs": [
    {
     "name": "stdout",
     "output_type": "stream",
     "text": [
      "Requirement already satisfied: numpy in c:\\users\\amirsolei\\appdata\\local\\programs\\python\\python38\\lib\\site-packages (1.23.5)\n",
      "Requirement already satisfied: pandas in c:\\users\\amirsolei\\appdata\\local\\programs\\python\\python38\\lib\\site-packages (1.5.2)\n",
      "Requirement already satisfied: matplotlib in c:\\users\\amirsolei\\appdata\\local\\programs\\python\\python38\\lib\\site-packages (3.6.2)\n",
      "Requirement already satisfied: seaborn in c:\\users\\amirsolei\\appdata\\local\\programs\\python\\python38\\lib\\site-packages (0.12.1)\n",
      "Requirement already satisfied: dask in c:\\users\\amirsolei\\appdata\\local\\programs\\python\\python38\\lib\\site-packages (2022.12.0)\n",
      "Requirement already satisfied: textblob in c:\\users\\amirsolei\\appdata\\local\\programs\\python\\python38\\lib\\site-packages (0.17.1)\n",
      "Requirement already satisfied: nltk in c:\\users\\amirsolei\\appdata\\local\\programs\\python\\python38\\lib\\site-packages (3.8.1)\n",
      "Requirement already satisfied: pytz>=2020.1 in c:\\users\\amirsolei\\appdata\\local\\programs\\python\\python38\\lib\\site-packages (from pandas) (2022.6)\n",
      "Requirement already satisfied: python-dateutil>=2.8.1 in c:\\users\\amirsolei\\appdata\\local\\programs\\python\\python38\\lib\\site-packages (from pandas) (2.8.2)\n",
      "Requirement already satisfied: packaging>=20.0 in c:\\users\\amirsolei\\appdata\\local\\programs\\python\\python38\\lib\\site-packages (from matplotlib) (22.0)\n",
      "Requirement already satisfied: pyparsing>=2.2.1 in c:\\users\\amirsolei\\appdata\\local\\programs\\python\\python38\\lib\\site-packages (from matplotlib) (3.0.9)\n",
      "Requirement already satisfied: pillow>=6.2.0 in c:\\users\\amirsolei\\appdata\\local\\programs\\python\\python38\\lib\\site-packages (from matplotlib) (9.3.0)\n",
      "Requirement already satisfied: cycler>=0.10 in c:\\users\\amirsolei\\appdata\\local\\programs\\python\\python38\\lib\\site-packages (from matplotlib) (0.11.0)\n",
      "Requirement already satisfied: fonttools>=4.22.0 in c:\\users\\amirsolei\\appdata\\local\\programs\\python\\python38\\lib\\site-packages (from matplotlib) (4.38.0)\n",
      "Requirement already satisfied: kiwisolver>=1.0.1 in c:\\users\\amirsolei\\appdata\\local\\programs\\python\\python38\\lib\\site-packages (from matplotlib) (1.4.4)\n",
      "Requirement already satisfied: contourpy>=1.0.1 in c:\\users\\amirsolei\\appdata\\local\\programs\\python\\python38\\lib\\site-packages (from matplotlib) (1.0.6)\n",
      "Requirement already satisfied: partd>=0.3.10 in c:\\users\\amirsolei\\appdata\\local\\programs\\python\\python38\\lib\\site-packages (from dask) (1.3.0)\n",
      "Requirement already satisfied: toolz>=0.8.2 in c:\\users\\amirsolei\\appdata\\local\\programs\\python\\python38\\lib\\site-packages (from dask) (0.12.0)\n",
      "Requirement already satisfied: fsspec>=0.6.0 in c:\\users\\amirsolei\\appdata\\local\\programs\\python\\python38\\lib\\site-packages (from dask) (2022.11.0)\n",
      "Requirement already satisfied: pyyaml>=5.3.1 in c:\\users\\amirsolei\\appdata\\local\\programs\\python\\python38\\lib\\site-packages (from dask) (6.0)\n",
      "Requirement already satisfied: cloudpickle>=1.1.1 in c:\\users\\amirsolei\\appdata\\local\\programs\\python\\python38\\lib\\site-packages (from dask) (2.2.0)\n",
      "Requirement already satisfied: click>=7.0 in c:\\users\\amirsolei\\appdata\\local\\programs\\python\\python38\\lib\\site-packages (from dask) (8.1.3)\n",
      "Requirement already satisfied: joblib in c:\\users\\amirsolei\\appdata\\local\\programs\\python\\python38\\lib\\site-packages (from nltk) (1.2.0)\n",
      "Requirement already satisfied: tqdm in c:\\users\\amirsolei\\appdata\\local\\programs\\python\\python38\\lib\\site-packages (from nltk) (2.2.3)\n",
      "Requirement already satisfied: regex>=2021.8.3 in c:\\users\\amirsolei\\appdata\\local\\programs\\python\\python38\\lib\\site-packages (from nltk) (2022.10.31)\n",
      "Requirement already satisfied: colorama in c:\\users\\amirsolei\\appdata\\local\\programs\\python\\python38\\lib\\site-packages (from click>=7.0->dask) (0.4.6)\n",
      "Requirement already satisfied: locket in c:\\users\\amirsolei\\appdata\\local\\programs\\python\\python38\\lib\\site-packages (from partd>=0.3.10->dask) (1.0.0)\n",
      "Requirement already satisfied: six>=1.5 in c:\\users\\amirsolei\\appdata\\local\\programs\\python\\python38\\lib\\site-packages (from python-dateutil>=2.8.1->pandas) (1.16.0)\n"
     ]
    }
   ],
   "source": [
    "! pip install numpy pandas matplotlib seaborn dask textblob nltk\n",
    "\n",
    "# Import libraries\n",
    "import sys\n",
    "import numpy as np\n",
    "import pandas as pd\n",
    "import matplotlib.pyplot as plt\n",
    "import seaborn as sns\n",
    "import datetime as dt\n",
    "import textblob\n",
    "import nltk\n",
    "import dask.dataframe as dd\n",
    "\n",
    "from zipfile import ZipFile\n",
    "\n",
    "# Assert that Python version is 3.7 or higher\n",
    "assert (sys.version_info.major == 3 and sys.version_info.minor >= 7), \"This notebook requires Python 3.7 or higher.\""
   ]
  },
  {
   "cell_type": "code",
   "execution_count": 3,
   "metadata": {},
   "outputs": [
    {
     "data": {
      "text/html": [
       "<div>\n",
       "<style scoped>\n",
       "    .dataframe tbody tr th:only-of-type {\n",
       "        vertical-align: middle;\n",
       "    }\n",
       "\n",
       "    .dataframe tbody tr th {\n",
       "        vertical-align: top;\n",
       "    }\n",
       "\n",
       "    .dataframe thead th {\n",
       "        text-align: right;\n",
       "    }\n",
       "</style>\n",
       "<table border=\"1\" class=\"dataframe\">\n",
       "  <thead>\n",
       "    <tr style=\"text-align: right;\">\n",
       "      <th></th>\n",
       "      <th>0</th>\n",
       "      <th>1467810369</th>\n",
       "      <th>Mon Apr 06 22:19:45 PDT 2009</th>\n",
       "      <th>NO_QUERY</th>\n",
       "      <th>_TheSpecialOne_</th>\n",
       "      <th>@switchfoot http://twitpic.com/2y1zl - Awww, that's a bummer.  You shoulda got David Carr of Third Day to do it. ;D</th>\n",
       "    </tr>\n",
       "  </thead>\n",
       "  <tbody>\n",
       "    <tr>\n",
       "      <th>0</th>\n",
       "      <td>0</td>\n",
       "      <td>1467810672</td>\n",
       "      <td>Mon Apr 06 22:19:49 PDT 2009</td>\n",
       "      <td>NO_QUERY</td>\n",
       "      <td>scotthamilton</td>\n",
       "      <td>is upset that he can't update his Facebook by ...</td>\n",
       "    </tr>\n",
       "    <tr>\n",
       "      <th>1</th>\n",
       "      <td>0</td>\n",
       "      <td>1467810917</td>\n",
       "      <td>Mon Apr 06 22:19:53 PDT 2009</td>\n",
       "      <td>NO_QUERY</td>\n",
       "      <td>mattycus</td>\n",
       "      <td>@Kenichan I dived many times for the ball. Man...</td>\n",
       "    </tr>\n",
       "    <tr>\n",
       "      <th>2</th>\n",
       "      <td>0</td>\n",
       "      <td>1467811184</td>\n",
       "      <td>Mon Apr 06 22:19:57 PDT 2009</td>\n",
       "      <td>NO_QUERY</td>\n",
       "      <td>ElleCTF</td>\n",
       "      <td>my whole body feels itchy and like its on fire</td>\n",
       "    </tr>\n",
       "  </tbody>\n",
       "</table>\n",
       "</div>"
      ],
      "text/plain": [
       "   0  1467810369  Mon Apr 06 22:19:45 PDT 2009  NO_QUERY _TheSpecialOne_  \\\n",
       "0  0  1467810672  Mon Apr 06 22:19:49 PDT 2009  NO_QUERY   scotthamilton   \n",
       "1  0  1467810917  Mon Apr 06 22:19:53 PDT 2009  NO_QUERY        mattycus   \n",
       "2  0  1467811184  Mon Apr 06 22:19:57 PDT 2009  NO_QUERY         ElleCTF   \n",
       "\n",
       "  @switchfoot http://twitpic.com/2y1zl - Awww, that's a bummer.  You shoulda got David Carr of Third Day to do it. ;D  \n",
       "0  is upset that he can't update his Facebook by ...                                                                   \n",
       "1  @Kenichan I dived many times for the ball. Man...                                                                   \n",
       "2    my whole body feels itchy and like its on fire                                                                    "
      ]
     },
     "execution_count": 3,
     "metadata": {},
     "output_type": "execute_result"
    }
   ],
   "source": [
    "# Import dataset to a dataframe\n",
    "tweets = pd.read_csv('../data/modified-tweets.csv', encoding='latin-1')\n",
    "tweets.head(3)"
   ]
  },
  {
   "cell_type": "code",
   "execution_count": 4,
   "metadata": {},
   "outputs": [
    {
     "data": {
      "text/html": [
       "<div>\n",
       "<style scoped>\n",
       "    .dataframe tbody tr th:only-of-type {\n",
       "        vertical-align: middle;\n",
       "    }\n",
       "\n",
       "    .dataframe tbody tr th {\n",
       "        vertical-align: top;\n",
       "    }\n",
       "\n",
       "    .dataframe thead th {\n",
       "        text-align: right;\n",
       "    }\n",
       "</style>\n",
       "<table border=\"1\" class=\"dataframe\">\n",
       "  <thead>\n",
       "    <tr style=\"text-align: right;\">\n",
       "      <th></th>\n",
       "      <th>zero</th>\n",
       "      <th>id</th>\n",
       "      <th>date</th>\n",
       "      <th>query</th>\n",
       "      <th>user</th>\n",
       "      <th>text</th>\n",
       "    </tr>\n",
       "  </thead>\n",
       "  <tbody>\n",
       "    <tr>\n",
       "      <th>0</th>\n",
       "      <td>0</td>\n",
       "      <td>1467810369</td>\n",
       "      <td>Mon Apr 06 22:19:45 PDT 2009</td>\n",
       "      <td>NO_QUERY</td>\n",
       "      <td>_TheSpecialOne_</td>\n",
       "      <td>@switchfoot http://twitpic.com/2y1zl - Awww, t...</td>\n",
       "    </tr>\n",
       "    <tr>\n",
       "      <th>1</th>\n",
       "      <td>0</td>\n",
       "      <td>1467810672</td>\n",
       "      <td>Mon Apr 06 22:19:49 PDT 2009</td>\n",
       "      <td>NO_QUERY</td>\n",
       "      <td>scotthamilton</td>\n",
       "      <td>is upset that he can't update his Facebook by ...</td>\n",
       "    </tr>\n",
       "    <tr>\n",
       "      <th>2</th>\n",
       "      <td>0</td>\n",
       "      <td>1467810917</td>\n",
       "      <td>Mon Apr 06 22:19:53 PDT 2009</td>\n",
       "      <td>NO_QUERY</td>\n",
       "      <td>mattycus</td>\n",
       "      <td>@Kenichan I dived many times for the ball. Man...</td>\n",
       "    </tr>\n",
       "  </tbody>\n",
       "</table>\n",
       "</div>"
      ],
      "text/plain": [
       "   zero          id                          date     query             user  \\\n",
       "0     0  1467810369  Mon Apr 06 22:19:45 PDT 2009  NO_QUERY  _TheSpecialOne_   \n",
       "1     0  1467810672  Mon Apr 06 22:19:49 PDT 2009  NO_QUERY    scotthamilton   \n",
       "2     0  1467810917  Mon Apr 06 22:19:53 PDT 2009  NO_QUERY         mattycus   \n",
       "\n",
       "                                                text  \n",
       "0  @switchfoot http://twitpic.com/2y1zl - Awww, t...  \n",
       "1  is upset that he can't update his Facebook by ...  \n",
       "2  @Kenichan I dived many times for the ball. Man...  "
      ]
     },
     "execution_count": 4,
     "metadata": {},
     "output_type": "execute_result"
    }
   ],
   "source": [
    "# Read the dataframe again and set column names\n",
    "tweets = pd.read_csv('../data/modified-tweets.csv', encoding='latin-1', names=['zero', 'id', 'date', 'query', 'user', 'text'])\n",
    "tweets.head(3)"
   ]
  },
  {
   "attachments": {},
   "cell_type": "markdown",
   "metadata": {},
   "source": [
    "### 2.1 Cleaning the Data  \n",
    "**2.1.1 Removing Duplicates and Useless Data**"
   ]
  },
  {
   "cell_type": "code",
   "execution_count": 5,
   "metadata": {},
   "outputs": [
    {
     "name": "stdout",
     "output_type": "stream",
     "text": [
      "0    800000\n",
      "4    800000\n",
      "Name: zero, dtype: int64\n",
      "NO_QUERY    1600000\n",
      "Name: query, dtype: int64\n"
     ]
    }
   ],
   "source": [
    "print(tweets['zero'].value_counts())\n",
    "print(tweets['query'].value_counts())"
   ]
  },
  {
   "cell_type": "code",
   "execution_count": 6,
   "metadata": {},
   "outputs": [
    {
     "data": {
      "text/html": [
       "<div>\n",
       "<style scoped>\n",
       "    .dataframe tbody tr th:only-of-type {\n",
       "        vertical-align: middle;\n",
       "    }\n",
       "\n",
       "    .dataframe tbody tr th {\n",
       "        vertical-align: top;\n",
       "    }\n",
       "\n",
       "    .dataframe thead th {\n",
       "        text-align: right;\n",
       "    }\n",
       "</style>\n",
       "<table border=\"1\" class=\"dataframe\">\n",
       "  <thead>\n",
       "    <tr style=\"text-align: right;\">\n",
       "      <th></th>\n",
       "      <th>id</th>\n",
       "      <th>date</th>\n",
       "      <th>user</th>\n",
       "      <th>text</th>\n",
       "    </tr>\n",
       "  </thead>\n",
       "  <tbody>\n",
       "    <tr>\n",
       "      <th>0</th>\n",
       "      <td>1467810369</td>\n",
       "      <td>Mon Apr 06 22:19:45 PDT 2009</td>\n",
       "      <td>_TheSpecialOne_</td>\n",
       "      <td>@switchfoot http://twitpic.com/2y1zl - Awww, t...</td>\n",
       "    </tr>\n",
       "    <tr>\n",
       "      <th>1</th>\n",
       "      <td>1467810672</td>\n",
       "      <td>Mon Apr 06 22:19:49 PDT 2009</td>\n",
       "      <td>scotthamilton</td>\n",
       "      <td>is upset that he can't update his Facebook by ...</td>\n",
       "    </tr>\n",
       "    <tr>\n",
       "      <th>2</th>\n",
       "      <td>1467810917</td>\n",
       "      <td>Mon Apr 06 22:19:53 PDT 2009</td>\n",
       "      <td>mattycus</td>\n",
       "      <td>@Kenichan I dived many times for the ball. Man...</td>\n",
       "    </tr>\n",
       "  </tbody>\n",
       "</table>\n",
       "</div>"
      ],
      "text/plain": [
       "           id                          date             user  \\\n",
       "0  1467810369  Mon Apr 06 22:19:45 PDT 2009  _TheSpecialOne_   \n",
       "1  1467810672  Mon Apr 06 22:19:49 PDT 2009    scotthamilton   \n",
       "2  1467810917  Mon Apr 06 22:19:53 PDT 2009         mattycus   \n",
       "\n",
       "                                                text  \n",
       "0  @switchfoot http://twitpic.com/2y1zl - Awww, t...  \n",
       "1  is upset that he can't update his Facebook by ...  \n",
       "2  @Kenichan I dived many times for the ball. Man...  "
      ]
     },
     "execution_count": 6,
     "metadata": {},
     "output_type": "execute_result"
    }
   ],
   "source": [
    "# Remove 'zero' and 'query' columns\n",
    "tweets = tweets.drop(['zero', 'query'], axis=1)\n",
    "tweets.head(3)"
   ]
  },
  {
   "cell_type": "code",
   "execution_count": 7,
   "metadata": {},
   "outputs": [
    {
     "data": {
      "text/html": [
       "<div>\n",
       "<style scoped>\n",
       "    .dataframe tbody tr th:only-of-type {\n",
       "        vertical-align: middle;\n",
       "    }\n",
       "\n",
       "    .dataframe tbody tr th {\n",
       "        vertical-align: top;\n",
       "    }\n",
       "\n",
       "    .dataframe thead th {\n",
       "        text-align: right;\n",
       "    }\n",
       "</style>\n",
       "<table border=\"1\" class=\"dataframe\">\n",
       "  <thead>\n",
       "    <tr style=\"text-align: right;\">\n",
       "      <th></th>\n",
       "      <th>id</th>\n",
       "      <th>date</th>\n",
       "      <th>user</th>\n",
       "      <th>text</th>\n",
       "    </tr>\n",
       "  </thead>\n",
       "  <tbody>\n",
       "    <tr>\n",
       "      <th>213</th>\n",
       "      <td>1467863684</td>\n",
       "      <td>Mon Apr 06 22:33:35 PDT 2009</td>\n",
       "      <td>DjGundam</td>\n",
       "      <td>Awwh babs... you look so sad underneith that s...</td>\n",
       "    </tr>\n",
       "    <tr>\n",
       "      <th>800261</th>\n",
       "      <td>1467863684</td>\n",
       "      <td>Mon Apr 06 22:33:35 PDT 2009</td>\n",
       "      <td>DjGundam</td>\n",
       "      <td>Awwh babs... you look so sad underneith that s...</td>\n",
       "    </tr>\n",
       "    <tr>\n",
       "      <th>275</th>\n",
       "      <td>1467880442</td>\n",
       "      <td>Mon Apr 06 22:38:04 PDT 2009</td>\n",
       "      <td>iCalvin</td>\n",
       "      <td>Haven't tweeted nearly all day  Posted my webs...</td>\n",
       "    </tr>\n",
       "    <tr>\n",
       "      <th>800300</th>\n",
       "      <td>1467880442</td>\n",
       "      <td>Mon Apr 06 22:38:04 PDT 2009</td>\n",
       "      <td>iCalvin</td>\n",
       "      <td>Haven't tweeted nearly all day  Posted my webs...</td>\n",
       "    </tr>\n",
       "    <tr>\n",
       "      <th>989</th>\n",
       "      <td>1468053611</td>\n",
       "      <td>Mon Apr 06 23:28:09 PDT 2009</td>\n",
       "      <td>mariejamora</td>\n",
       "      <td>@hellobebe I also send some updates in plurk b...</td>\n",
       "    </tr>\n",
       "  </tbody>\n",
       "</table>\n",
       "</div>"
      ],
      "text/plain": [
       "                id                          date         user  \\\n",
       "213     1467863684  Mon Apr 06 22:33:35 PDT 2009     DjGundam   \n",
       "800261  1467863684  Mon Apr 06 22:33:35 PDT 2009     DjGundam   \n",
       "275     1467880442  Mon Apr 06 22:38:04 PDT 2009      iCalvin   \n",
       "800300  1467880442  Mon Apr 06 22:38:04 PDT 2009      iCalvin   \n",
       "989     1468053611  Mon Apr 06 23:28:09 PDT 2009  mariejamora   \n",
       "\n",
       "                                                     text  \n",
       "213     Awwh babs... you look so sad underneith that s...  \n",
       "800261  Awwh babs... you look so sad underneith that s...  \n",
       "275     Haven't tweeted nearly all day  Posted my webs...  \n",
       "800300  Haven't tweeted nearly all day  Posted my webs...  \n",
       "989     @hellobebe I also send some updates in plurk b...  "
      ]
     },
     "execution_count": 7,
     "metadata": {},
     "output_type": "execute_result"
    }
   ],
   "source": [
    "# Find ids that appear more than once\n",
    "tweets[tweets['id'].duplicated(keep=False)].sort_values('id').head()"
   ]
  },
  {
   "cell_type": "code",
   "execution_count": 8,
   "metadata": {},
   "outputs": [
    {
     "data": {
      "text/html": [
       "<div>\n",
       "<style scoped>\n",
       "    .dataframe tbody tr th:only-of-type {\n",
       "        vertical-align: middle;\n",
       "    }\n",
       "\n",
       "    .dataframe tbody tr th {\n",
       "        vertical-align: top;\n",
       "    }\n",
       "\n",
       "    .dataframe thead th {\n",
       "        text-align: right;\n",
       "    }\n",
       "</style>\n",
       "<table border=\"1\" class=\"dataframe\">\n",
       "  <thead>\n",
       "    <tr style=\"text-align: right;\">\n",
       "      <th></th>\n",
       "      <th>id</th>\n",
       "      <th>date</th>\n",
       "      <th>user</th>\n",
       "      <th>text</th>\n",
       "    </tr>\n",
       "  </thead>\n",
       "  <tbody>\n",
       "    <tr>\n",
       "      <th>0</th>\n",
       "      <td>1467810369</td>\n",
       "      <td>Mon Apr 06 22:19:45 PDT 2009</td>\n",
       "      <td>_TheSpecialOne_</td>\n",
       "      <td>@switchfoot http://twitpic.com/2y1zl - Awww, t...</td>\n",
       "    </tr>\n",
       "    <tr>\n",
       "      <th>1</th>\n",
       "      <td>1467810672</td>\n",
       "      <td>Mon Apr 06 22:19:49 PDT 2009</td>\n",
       "      <td>scotthamilton</td>\n",
       "      <td>is upset that he can't update his Facebook by ...</td>\n",
       "    </tr>\n",
       "    <tr>\n",
       "      <th>2</th>\n",
       "      <td>1467810917</td>\n",
       "      <td>Mon Apr 06 22:19:53 PDT 2009</td>\n",
       "      <td>mattycus</td>\n",
       "      <td>@Kenichan I dived many times for the ball. Man...</td>\n",
       "    </tr>\n",
       "  </tbody>\n",
       "</table>\n",
       "</div>"
      ],
      "text/plain": [
       "           id                          date             user  \\\n",
       "0  1467810369  Mon Apr 06 22:19:45 PDT 2009  _TheSpecialOne_   \n",
       "1  1467810672  Mon Apr 06 22:19:49 PDT 2009    scotthamilton   \n",
       "2  1467810917  Mon Apr 06 22:19:53 PDT 2009         mattycus   \n",
       "\n",
       "                                                text  \n",
       "0  @switchfoot http://twitpic.com/2y1zl - Awww, t...  \n",
       "1  is upset that he can't update his Facebook by ...  \n",
       "2  @Kenichan I dived many times for the ball. Man...  "
      ]
     },
     "execution_count": 8,
     "metadata": {},
     "output_type": "execute_result"
    }
   ],
   "source": [
    "# Remove duplicates\n",
    "tweets = tweets.drop_duplicates(subset='id', keep='first')\n",
    "tweets.head(3)"
   ]
  },
  {
   "attachments": {},
   "cell_type": "markdown",
   "metadata": {},
   "source": [
    "**2.1.2 Converting Data Types**"
   ]
  },
  {
   "cell_type": "code",
   "execution_count": 9,
   "metadata": {},
   "outputs": [
    {
     "name": "stdout",
     "output_type": "stream",
     "text": [
      "(1598315, 4)\n"
     ]
    },
    {
     "data": {
      "text/plain": [
       "(1598315, 4)"
      ]
     },
     "execution_count": 9,
     "metadata": {},
     "output_type": "execute_result"
    }
   ],
   "source": [
    "print(tweets.shape)\n",
    "\n",
    "# Find how many rows contain 'PDT' in date\n",
    "tweets[tweets['date'].str.contains('PDT')].shape"
   ]
  },
  {
   "attachments": {},
   "cell_type": "markdown",
   "metadata": {},
   "source": [
    "The string `PDT` causes an error when trying to convert the date to a datetime object. Since all tweets are from the same timezone, we will remove this string from the date column."
   ]
  },
  {
   "cell_type": "code",
   "execution_count": 10,
   "metadata": {},
   "outputs": [
    {
     "name": "stdout",
     "output_type": "stream",
     "text": [
      "id       int64\n",
      "date    object\n",
      "user    object\n",
      "text    object\n",
      "dtype: object\n"
     ]
    },
    {
     "data": {
      "text/html": [
       "<div>\n",
       "<style scoped>\n",
       "    .dataframe tbody tr th:only-of-type {\n",
       "        vertical-align: middle;\n",
       "    }\n",
       "\n",
       "    .dataframe tbody tr th {\n",
       "        vertical-align: top;\n",
       "    }\n",
       "\n",
       "    .dataframe thead th {\n",
       "        text-align: right;\n",
       "    }\n",
       "</style>\n",
       "<table border=\"1\" class=\"dataframe\">\n",
       "  <thead>\n",
       "    <tr style=\"text-align: right;\">\n",
       "      <th></th>\n",
       "      <th>id</th>\n",
       "      <th>date</th>\n",
       "      <th>user</th>\n",
       "      <th>text</th>\n",
       "    </tr>\n",
       "  </thead>\n",
       "  <tbody>\n",
       "    <tr>\n",
       "      <th>0</th>\n",
       "      <td>1467810369</td>\n",
       "      <td>2009-04-06 22:19:45</td>\n",
       "      <td>_TheSpecialOne_</td>\n",
       "      <td>@switchfoot http://twitpic.com/2y1zl - Awww, t...</td>\n",
       "    </tr>\n",
       "    <tr>\n",
       "      <th>1</th>\n",
       "      <td>1467810672</td>\n",
       "      <td>2009-04-06 22:19:49</td>\n",
       "      <td>scotthamilton</td>\n",
       "      <td>is upset that he can't update his Facebook by ...</td>\n",
       "    </tr>\n",
       "    <tr>\n",
       "      <th>2</th>\n",
       "      <td>1467810917</td>\n",
       "      <td>2009-04-06 22:19:53</td>\n",
       "      <td>mattycus</td>\n",
       "      <td>@Kenichan I dived many times for the ball. Man...</td>\n",
       "    </tr>\n",
       "  </tbody>\n",
       "</table>\n",
       "</div>"
      ],
      "text/plain": [
       "           id                date             user  \\\n",
       "0  1467810369 2009-04-06 22:19:45  _TheSpecialOne_   \n",
       "1  1467810672 2009-04-06 22:19:49    scotthamilton   \n",
       "2  1467810917 2009-04-06 22:19:53         mattycus   \n",
       "\n",
       "                                                text  \n",
       "0  @switchfoot http://twitpic.com/2y1zl - Awww, t...  \n",
       "1  is upset that he can't update his Facebook by ...  \n",
       "2  @Kenichan I dived many times for the ball. Man...  "
      ]
     },
     "execution_count": 10,
     "metadata": {},
     "output_type": "execute_result"
    }
   ],
   "source": [
    "# Find data type of each column\n",
    "print(tweets.dtypes)\n",
    "\n",
    "# Remove 'PDT' from date column\n",
    "tweets['date'] = tweets['date'].str.replace('PDT ', '')\n",
    "\n",
    "# Convert the 'date' column to datetime and 'user' and 'text' to string\n",
    "tweets['date'] = pd.to_datetime(tweets['date'], format='%a %b %d %H:%M:%S %Y')\n",
    "tweets['user'] = tweets['user'].astype(str)\n",
    "tweets['text'] = tweets['text'].astype(str)\n",
    "\n",
    "# Reset index\n",
    "tweets = tweets.reset_index(drop=True)\n",
    "tweets.head(3)"
   ]
  },
  {
   "attachments": {},
   "cell_type": "markdown",
   "metadata": {},
   "source": [
    "**2.1.3 Handling Upper/lower Case**"
   ]
  },
  {
   "cell_type": "code",
   "execution_count": 11,
   "metadata": {},
   "outputs": [],
   "source": [
    "# Convert all entries in text to lowercase\n",
    "tweets['text'] = tweets['text'].str.lower()"
   ]
  },
  {
   "cell_type": "code",
   "execution_count": 12,
   "metadata": {},
   "outputs": [
    {
     "data": {
      "text/plain": [
       "id      0\n",
       "date    0\n",
       "user    0\n",
       "text    0\n",
       "dtype: int64"
      ]
     },
     "execution_count": 12,
     "metadata": {},
     "output_type": "execute_result"
    }
   ],
   "source": [
    "# Find count of missing values in each column\n",
    "tweets.isnull().sum()"
   ]
  },
  {
   "attachments": {},
   "cell_type": "markdown",
   "metadata": {},
   "source": [
    "### 2.2 Using Preprocessing Techniques"
   ]
  },
  {
   "cell_type": "code",
   "execution_count": 13,
   "metadata": {},
   "outputs": [
    {
     "data": {
      "text/html": [
       "<div>\n",
       "<style scoped>\n",
       "    .dataframe tbody tr th:only-of-type {\n",
       "        vertical-align: middle;\n",
       "    }\n",
       "\n",
       "    .dataframe tbody tr th {\n",
       "        vertical-align: top;\n",
       "    }\n",
       "\n",
       "    .dataframe thead th {\n",
       "        text-align: right;\n",
       "    }\n",
       "</style>\n",
       "<table border=\"1\" class=\"dataframe\">\n",
       "  <thead>\n",
       "    <tr style=\"text-align: right;\">\n",
       "      <th></th>\n",
       "      <th>id</th>\n",
       "      <th>date</th>\n",
       "      <th>user</th>\n",
       "      <th>text</th>\n",
       "      <th>words</th>\n",
       "    </tr>\n",
       "  </thead>\n",
       "  <tbody>\n",
       "    <tr>\n",
       "      <th>0</th>\n",
       "      <td>1467810369</td>\n",
       "      <td>2009-04-06 22:19:45</td>\n",
       "      <td>_TheSpecialOne_</td>\n",
       "      <td>@switchfoot http://twitpic.com/2y1zl - awww, t...</td>\n",
       "      <td>[@switchfoot, http://twitpic.com/2y1zl, -, aww...</td>\n",
       "    </tr>\n",
       "    <tr>\n",
       "      <th>1</th>\n",
       "      <td>1467810672</td>\n",
       "      <td>2009-04-06 22:19:49</td>\n",
       "      <td>scotthamilton</td>\n",
       "      <td>is upset that he can't update his facebook by ...</td>\n",
       "      <td>[is, upset, that, he, can't, update, his, face...</td>\n",
       "    </tr>\n",
       "    <tr>\n",
       "      <th>2</th>\n",
       "      <td>1467810917</td>\n",
       "      <td>2009-04-06 22:19:53</td>\n",
       "      <td>mattycus</td>\n",
       "      <td>@kenichan i dived many times for the ball. man...</td>\n",
       "      <td>[@kenichan, i, dived, many, times, for, the, b...</td>\n",
       "    </tr>\n",
       "  </tbody>\n",
       "</table>\n",
       "</div>"
      ],
      "text/plain": [
       "           id                date             user  \\\n",
       "0  1467810369 2009-04-06 22:19:45  _TheSpecialOne_   \n",
       "1  1467810672 2009-04-06 22:19:49    scotthamilton   \n",
       "2  1467810917 2009-04-06 22:19:53         mattycus   \n",
       "\n",
       "                                                text  \\\n",
       "0  @switchfoot http://twitpic.com/2y1zl - awww, t...   \n",
       "1  is upset that he can't update his facebook by ...   \n",
       "2  @kenichan i dived many times for the ball. man...   \n",
       "\n",
       "                                               words  \n",
       "0  [@switchfoot, http://twitpic.com/2y1zl, -, aww...  \n",
       "1  [is, upset, that, he, can't, update, his, face...  \n",
       "2  [@kenichan, i, dived, many, times, for, the, b...  "
      ]
     },
     "execution_count": 13,
     "metadata": {},
     "output_type": "execute_result"
    }
   ],
   "source": [
    "# Make a column of array of words from text\n",
    "tweets['words'] = tweets['text'].str.split()\n",
    "tweets.head(3)"
   ]
  },
  {
   "attachments": {},
   "cell_type": "markdown",
   "metadata": {},
   "source": [
    "**2.2.1 Removing Links and References**"
   ]
  },
  {
   "cell_type": "code",
   "execution_count": 14,
   "metadata": {},
   "outputs": [
    {
     "data": {
      "text/html": [
       "<div>\n",
       "<style scoped>\n",
       "    .dataframe tbody tr th:only-of-type {\n",
       "        vertical-align: middle;\n",
       "    }\n",
       "\n",
       "    .dataframe tbody tr th {\n",
       "        vertical-align: top;\n",
       "    }\n",
       "\n",
       "    .dataframe thead th {\n",
       "        text-align: right;\n",
       "    }\n",
       "</style>\n",
       "<table border=\"1\" class=\"dataframe\">\n",
       "  <thead>\n",
       "    <tr style=\"text-align: right;\">\n",
       "      <th></th>\n",
       "      <th>id</th>\n",
       "      <th>date</th>\n",
       "      <th>user</th>\n",
       "      <th>text</th>\n",
       "      <th>words</th>\n",
       "    </tr>\n",
       "  </thead>\n",
       "  <tbody>\n",
       "    <tr>\n",
       "      <th>0</th>\n",
       "      <td>1467810369</td>\n",
       "      <td>2009-04-06 22:19:45</td>\n",
       "      <td>_TheSpecialOne_</td>\n",
       "      <td>@switchfoot http://twitpic.com/2y1zl - awww, t...</td>\n",
       "      <td>[-, awww,, that's, a, bummer., you, shoulda, g...</td>\n",
       "    </tr>\n",
       "    <tr>\n",
       "      <th>1</th>\n",
       "      <td>1467810672</td>\n",
       "      <td>2009-04-06 22:19:49</td>\n",
       "      <td>scotthamilton</td>\n",
       "      <td>is upset that he can't update his facebook by ...</td>\n",
       "      <td>[is, upset, that, he, can't, update, his, face...</td>\n",
       "    </tr>\n",
       "    <tr>\n",
       "      <th>2</th>\n",
       "      <td>1467810917</td>\n",
       "      <td>2009-04-06 22:19:53</td>\n",
       "      <td>mattycus</td>\n",
       "      <td>@kenichan i dived many times for the ball. man...</td>\n",
       "      <td>[i, dived, many, times, for, the, ball., manag...</td>\n",
       "    </tr>\n",
       "  </tbody>\n",
       "</table>\n",
       "</div>"
      ],
      "text/plain": [
       "           id                date             user  \\\n",
       "0  1467810369 2009-04-06 22:19:45  _TheSpecialOne_   \n",
       "1  1467810672 2009-04-06 22:19:49    scotthamilton   \n",
       "2  1467810917 2009-04-06 22:19:53         mattycus   \n",
       "\n",
       "                                                text  \\\n",
       "0  @switchfoot http://twitpic.com/2y1zl - awww, t...   \n",
       "1  is upset that he can't update his facebook by ...   \n",
       "2  @kenichan i dived many times for the ball. man...   \n",
       "\n",
       "                                               words  \n",
       "0  [-, awww,, that's, a, bummer., you, shoulda, g...  \n",
       "1  [is, upset, that, he, can't, update, his, face...  \n",
       "2  [i, dived, many, times, for, the, ball., manag...  "
      ]
     },
     "execution_count": 14,
     "metadata": {},
     "output_type": "execute_result"
    }
   ],
   "source": [
    "# Remove URLs from words\n",
    "tweets['words'] = tweets['words'].apply(lambda x: [word for word in x if not word.startswith('http')])\n",
    "# Remove @usernames from words\n",
    "tweets['words'] = tweets['words'].apply(lambda x: [word for word in x if not word.startswith('@')])\n",
    "tweets.head(3)"
   ]
  },
  {
   "attachments": {},
   "cell_type": "markdown",
   "metadata": {},
   "source": [
    "**2.2.2 Removing Punctuation and Lemmatization**"
   ]
  },
  {
   "cell_type": "code",
   "execution_count": 26,
   "metadata": {},
   "outputs": [
    {
     "name": "stderr",
     "output_type": "stream",
     "text": [
      "[nltk_data] Downloading package wordnet to\n",
      "[nltk_data]     C:\\Users\\amirsolei\\AppData\\Roaming\\nltk_data...\n",
      "[nltk_data]   Package wordnet is already up-to-date!\n"
     ]
    }
   ],
   "source": [
    "nltk.download('wordnet')\n",
    "\n",
    "# Remove punctuation from words\n",
    "tweets['words'] = tweets['words'].apply(lambda x: [word.strip('\"?,.-;') for word in x])\n",
    "# Remove empty strings from words\n",
    "tweets['words'] = tweets['words'].apply(lambda x: [word for word in x if len(word) > 0])\n",
    "# Use lemmatization to reduce words to their root form\n",
    "tweets['words'] = tweets['words'].apply(lambda x: [textblob.Word(word).lemmatize() for word in x])"
   ]
  },
  {
   "cell_type": "code",
   "execution_count": 27,
   "metadata": {},
   "outputs": [
    {
     "data": {
      "text/html": [
       "<div>\n",
       "<style scoped>\n",
       "    .dataframe tbody tr th:only-of-type {\n",
       "        vertical-align: middle;\n",
       "    }\n",
       "\n",
       "    .dataframe tbody tr th {\n",
       "        vertical-align: top;\n",
       "    }\n",
       "\n",
       "    .dataframe thead th {\n",
       "        text-align: right;\n",
       "    }\n",
       "</style>\n",
       "<table border=\"1\" class=\"dataframe\">\n",
       "  <thead>\n",
       "    <tr style=\"text-align: right;\">\n",
       "      <th></th>\n",
       "      <th>id</th>\n",
       "      <th>date</th>\n",
       "      <th>user</th>\n",
       "      <th>text</th>\n",
       "      <th>words</th>\n",
       "    </tr>\n",
       "  </thead>\n",
       "  <tbody>\n",
       "    <tr>\n",
       "      <th>0</th>\n",
       "      <td>1467810369</td>\n",
       "      <td>2009-04-06 22:19:45</td>\n",
       "      <td>_TheSpecialOne_</td>\n",
       "      <td>@switchfoot http://twitpic.com/2y1zl - awww, t...</td>\n",
       "      <td>[[awww], [that], [is], [a], [bummer], [you], [...</td>\n",
       "    </tr>\n",
       "    <tr>\n",
       "      <th>1</th>\n",
       "      <td>1467810672</td>\n",
       "      <td>2009-04-06 22:19:49</td>\n",
       "      <td>scotthamilton</td>\n",
       "      <td>is upset that he can't update his facebook by ...</td>\n",
       "      <td>[[is], [upset], [that], [he], [can], [not], [u...</td>\n",
       "    </tr>\n",
       "    <tr>\n",
       "      <th>2</th>\n",
       "      <td>1467810917</td>\n",
       "      <td>2009-04-06 22:19:53</td>\n",
       "      <td>mattycus</td>\n",
       "      <td>@kenichan i dived many times for the ball. man...</td>\n",
       "      <td>[[i], [dived], [many], [time], [for], [the], [...</td>\n",
       "    </tr>\n",
       "  </tbody>\n",
       "</table>\n",
       "</div>"
      ],
      "text/plain": [
       "           id                date             user  \\\n",
       "0  1467810369 2009-04-06 22:19:45  _TheSpecialOne_   \n",
       "1  1467810672 2009-04-06 22:19:49    scotthamilton   \n",
       "2  1467810917 2009-04-06 22:19:53         mattycus   \n",
       "\n",
       "                                                text  \\\n",
       "0  @switchfoot http://twitpic.com/2y1zl - awww, t...   \n",
       "1  is upset that he can't update his facebook by ...   \n",
       "2  @kenichan i dived many times for the ball. man...   \n",
       "\n",
       "                                               words  \n",
       "0  [[awww], [that], [is], [a], [bummer], [you], [...  \n",
       "1  [[is], [upset], [that], [he], [can], [not], [u...  \n",
       "2  [[i], [dived], [many], [time], [for], [the], [...  "
      ]
     },
     "execution_count": 27,
     "metadata": {},
     "output_type": "execute_result"
    }
   ],
   "source": [
    "# Change worlds with 't apostrophe to two words\n",
    "tweets['words'] = tweets['words'].apply(lambda x: [word.replace(\"'t\", \" not\") for word in x])\n",
    "# Change worlds with 's apostrophe to two words\n",
    "tweets['words'] = tweets['words'].apply(lambda x: [word.replace(\"'s\", \" is\") for word in x])\n",
    "# Change worlds with 're apostrophe to two words\n",
    "tweets['words'] = tweets['words'].apply(lambda x: [word.replace(\"'re\", \" are\") for word in x])\n",
    "# Change worlds with 've apostrophe to two words\n",
    "tweets['words'] = tweets['words'].apply(lambda x: [word.replace(\"'ve\", \" have\") for word in x])\n",
    "# Change worlds with 'm apostrophe to two words\n",
    "tweets['words'] = tweets['words'].apply(lambda x: [word.replace(\"'m\", \" am\") for word in x])\n",
    "# Change worlds with 'll apostrophe to two words\n",
    "tweets['words'] = tweets['words'].apply(lambda x: [word.replace(\"'ll\", \" will\") for word in x])\n",
    "# Change worlds with 'd apostrophe to two words\n",
    "tweets['words'] = tweets['words'].apply(lambda x: [word.replace(\"'d\", \" would\") for word in x])\n",
    "\n",
    "# Split words into two words if they contain a whitespace\n",
    "tweets['words'] = tweets['words'].apply(lambda x: [word.split() for word in x])\n",
    "tweets.head(3)"
   ]
  },
  {
   "cell_type": "code",
   "execution_count": 28,
   "metadata": {},
   "outputs": [
    {
     "data": {
      "text/html": [
       "<div>\n",
       "<style scoped>\n",
       "    .dataframe tbody tr th:only-of-type {\n",
       "        vertical-align: middle;\n",
       "    }\n",
       "\n",
       "    .dataframe tbody tr th {\n",
       "        vertical-align: top;\n",
       "    }\n",
       "\n",
       "    .dataframe thead th {\n",
       "        text-align: right;\n",
       "    }\n",
       "</style>\n",
       "<table border=\"1\" class=\"dataframe\">\n",
       "  <thead>\n",
       "    <tr style=\"text-align: right;\">\n",
       "      <th></th>\n",
       "      <th>id</th>\n",
       "      <th>date</th>\n",
       "      <th>user</th>\n",
       "      <th>text</th>\n",
       "      <th>words</th>\n",
       "    </tr>\n",
       "  </thead>\n",
       "  <tbody>\n",
       "    <tr>\n",
       "      <th>0</th>\n",
       "      <td>1467810369</td>\n",
       "      <td>2009-04-06 22:19:45</td>\n",
       "      <td>_TheSpecialOne_</td>\n",
       "      <td>@switchfoot http://twitpic.com/2y1zl - awww, t...</td>\n",
       "      <td>[awww, that, is, a, bummer, you, shoulda, got,...</td>\n",
       "    </tr>\n",
       "    <tr>\n",
       "      <th>1</th>\n",
       "      <td>1467810672</td>\n",
       "      <td>2009-04-06 22:19:49</td>\n",
       "      <td>scotthamilton</td>\n",
       "      <td>is upset that he can't update his facebook by ...</td>\n",
       "      <td>[is, upset, that, he, can, not, update, his, f...</td>\n",
       "    </tr>\n",
       "    <tr>\n",
       "      <th>2</th>\n",
       "      <td>1467810917</td>\n",
       "      <td>2009-04-06 22:19:53</td>\n",
       "      <td>mattycus</td>\n",
       "      <td>@kenichan i dived many times for the ball. man...</td>\n",
       "      <td>[i, dived, many, time, for, the, ball, managed...</td>\n",
       "    </tr>\n",
       "  </tbody>\n",
       "</table>\n",
       "</div>"
      ],
      "text/plain": [
       "           id                date             user  \\\n",
       "0  1467810369 2009-04-06 22:19:45  _TheSpecialOne_   \n",
       "1  1467810672 2009-04-06 22:19:49    scotthamilton   \n",
       "2  1467810917 2009-04-06 22:19:53         mattycus   \n",
       "\n",
       "                                                text  \\\n",
       "0  @switchfoot http://twitpic.com/2y1zl - awww, t...   \n",
       "1  is upset that he can't update his facebook by ...   \n",
       "2  @kenichan i dived many times for the ball. man...   \n",
       "\n",
       "                                               words  \n",
       "0  [awww, that, is, a, bummer, you, shoulda, got,...  \n",
       "1  [is, upset, that, he, can, not, update, his, f...  \n",
       "2  [i, dived, many, time, for, the, ball, managed...  "
      ]
     },
     "execution_count": 28,
     "metadata": {},
     "output_type": "execute_result"
    }
   ],
   "source": [
    "# Flatten the list of words\n",
    "tweets['words'] = tweets['words'].apply(lambda x: [item for sublist in x for item in sublist])\n",
    "tweets.head(3)"
   ]
  },
  {
   "cell_type": "code",
   "execution_count": 29,
   "metadata": {},
   "outputs": [
    {
     "data": {
      "text/html": [
       "<div>\n",
       "<style scoped>\n",
       "    .dataframe tbody tr th:only-of-type {\n",
       "        vertical-align: middle;\n",
       "    }\n",
       "\n",
       "    .dataframe tbody tr th {\n",
       "        vertical-align: top;\n",
       "    }\n",
       "\n",
       "    .dataframe thead th {\n",
       "        text-align: right;\n",
       "    }\n",
       "</style>\n",
       "<table border=\"1\" class=\"dataframe\">\n",
       "  <thead>\n",
       "    <tr style=\"text-align: right;\">\n",
       "      <th></th>\n",
       "      <th>id</th>\n",
       "      <th>date</th>\n",
       "      <th>user</th>\n",
       "      <th>text</th>\n",
       "      <th>words</th>\n",
       "    </tr>\n",
       "  </thead>\n",
       "  <tbody>\n",
       "    <tr>\n",
       "      <th>0</th>\n",
       "      <td>1467810369</td>\n",
       "      <td>2009-04-06 22:19:45</td>\n",
       "      <td>_TheSpecialOne_</td>\n",
       "      <td>@switchfoot http://twitpic.com/2y1zl - awww, t...</td>\n",
       "      <td>[awww, that, is, a, bummer, you, shoulda, got,...</td>\n",
       "    </tr>\n",
       "    <tr>\n",
       "      <th>1</th>\n",
       "      <td>1467810672</td>\n",
       "      <td>2009-04-06 22:19:49</td>\n",
       "      <td>scotthamilton</td>\n",
       "      <td>is upset that he can't update his facebook by ...</td>\n",
       "      <td>[is, upset, that, he, can, not, update, his, f...</td>\n",
       "    </tr>\n",
       "    <tr>\n",
       "      <th>2</th>\n",
       "      <td>1467810917</td>\n",
       "      <td>2009-04-06 22:19:53</td>\n",
       "      <td>mattycus</td>\n",
       "      <td>@kenichan i dived many times for the ball. man...</td>\n",
       "      <td>[i, dived, many, time, for, the, ball, managed...</td>\n",
       "    </tr>\n",
       "  </tbody>\n",
       "</table>\n",
       "</div>"
      ],
      "text/plain": [
       "           id                date             user  \\\n",
       "0  1467810369 2009-04-06 22:19:45  _TheSpecialOne_   \n",
       "1  1467810672 2009-04-06 22:19:49    scotthamilton   \n",
       "2  1467810917 2009-04-06 22:19:53         mattycus   \n",
       "\n",
       "                                                text  \\\n",
       "0  @switchfoot http://twitpic.com/2y1zl - awww, t...   \n",
       "1  is upset that he can't update his facebook by ...   \n",
       "2  @kenichan i dived many times for the ball. man...   \n",
       "\n",
       "                                               words  \n",
       "0  [awww, that, is, a, bummer, you, shoulda, got,...  \n",
       "1  [is, upset, that, he, can, not, update, his, f...  \n",
       "2  [i, dived, many, time, for, the, ball, managed...  "
      ]
     },
     "execution_count": 29,
     "metadata": {},
     "output_type": "execute_result"
    }
   ],
   "source": [
    "# Lemmatize words using WordNetLemmatizer\n",
    "lemmatizer = nltk.stem.WordNetLemmatizer()\n",
    "tweets['words'] = tweets['words'].apply(lambda x: [lemmatizer.lemmatize(word) for word in x])\n",
    "tweets.head(3)"
   ]
  },
  {
   "attachments": {},
   "cell_type": "markdown",
   "metadata": {},
   "source": [
    "**2.2.3 Stopwords Removal and Stemming**"
   ]
  },
  {
   "cell_type": "code",
   "execution_count": 37,
   "metadata": {},
   "outputs": [
    {
     "data": {
      "text/plain": [
       "20649515"
      ]
     },
     "execution_count": 37,
     "metadata": {},
     "output_type": "execute_result"
    }
   ],
   "source": [
    "# Import progress bar (since this takes a while)\n",
    "from tqdm import tqdm\n",
    "\n",
    "# Count all words in tweets\n",
    "all_words = [word for tokens in tweets['words'] for word in tokens]\n",
    "len(all_words)"
   ]
  },
  {
   "cell_type": "code",
   "execution_count": 42,
   "metadata": {},
   "outputs": [
    {
     "name": "stderr",
     "output_type": "stream",
     "text": [
      "[nltk_data] Downloading package stopwords to\n",
      "[nltk_data]     C:\\Users\\amirsolei\\AppData\\Roaming\\nltk_data...\n",
      "[nltk_data]   Package stopwords is already up-to-date!\n",
      "                                                           \r"
     ]
    }
   ],
   "source": [
    "nltk.download('stopwords')\n",
    "pd.options.mode.chained_assignment = None\n",
    "\n",
    "# Remove stopwords with tqdm progress bar\n",
    "stopwords = nltk.corpus.stopwords.words('english')\n",
    "for i in tqdm(range(len(tweets['words']))):\n",
    "    tweets['words'][i] = [word for word in tweets['words'][i] if word not in stopwords]"
   ]
  },
  {
   "cell_type": "code",
   "execution_count": 45,
   "metadata": {},
   "outputs": [
    {
     "name": "stderr",
     "output_type": "stream",
     "text": [
      "                                                           \r"
     ]
    },
    {
     "data": {
      "text/html": [
       "<div>\n",
       "<style scoped>\n",
       "    .dataframe tbody tr th:only-of-type {\n",
       "        vertical-align: middle;\n",
       "    }\n",
       "\n",
       "    .dataframe tbody tr th {\n",
       "        vertical-align: top;\n",
       "    }\n",
       "\n",
       "    .dataframe thead th {\n",
       "        text-align: right;\n",
       "    }\n",
       "</style>\n",
       "<table border=\"1\" class=\"dataframe\">\n",
       "  <thead>\n",
       "    <tr style=\"text-align: right;\">\n",
       "      <th></th>\n",
       "      <th>id</th>\n",
       "      <th>date</th>\n",
       "      <th>user</th>\n",
       "      <th>text</th>\n",
       "      <th>words</th>\n",
       "    </tr>\n",
       "  </thead>\n",
       "  <tbody>\n",
       "    <tr>\n",
       "      <th>0</th>\n",
       "      <td>1467810369</td>\n",
       "      <td>2009-04-06 22:19:45</td>\n",
       "      <td>_TheSpecialOne_</td>\n",
       "      <td>@switchfoot http://twitpic.com/2y1zl - awww, t...</td>\n",
       "      <td>[awww, bummer, shoulda, got, david, carr, thir...</td>\n",
       "    </tr>\n",
       "    <tr>\n",
       "      <th>1</th>\n",
       "      <td>1467810672</td>\n",
       "      <td>2009-04-06 22:19:49</td>\n",
       "      <td>scotthamilton</td>\n",
       "      <td>is upset that he can't update his facebook by ...</td>\n",
       "      <td>[upset, updat, facebook, text, might, cri, res...</td>\n",
       "    </tr>\n",
       "    <tr>\n",
       "      <th>2</th>\n",
       "      <td>1467810917</td>\n",
       "      <td>2009-04-06 22:19:53</td>\n",
       "      <td>mattycus</td>\n",
       "      <td>@kenichan i dived many times for the ball. man...</td>\n",
       "      <td>[dive, mani, time, ball, manag, save, 50%, res...</td>\n",
       "    </tr>\n",
       "  </tbody>\n",
       "</table>\n",
       "</div>"
      ],
      "text/plain": [
       "           id                date             user  \\\n",
       "0  1467810369 2009-04-06 22:19:45  _TheSpecialOne_   \n",
       "1  1467810672 2009-04-06 22:19:49    scotthamilton   \n",
       "2  1467810917 2009-04-06 22:19:53         mattycus   \n",
       "\n",
       "                                                text  \\\n",
       "0  @switchfoot http://twitpic.com/2y1zl - awww, t...   \n",
       "1  is upset that he can't update his facebook by ...   \n",
       "2  @kenichan i dived many times for the ball. man...   \n",
       "\n",
       "                                               words  \n",
       "0  [awww, bummer, shoulda, got, david, carr, thir...  \n",
       "1  [upset, updat, facebook, text, might, cri, res...  \n",
       "2  [dive, mani, time, ball, manag, save, 50%, res...  "
      ]
     },
     "execution_count": 45,
     "metadata": {},
     "output_type": "execute_result"
    }
   ],
   "source": [
    "# Stem words using PorterStemmer\n",
    "stemmer = nltk.stem.PorterStemmer()\n",
    "for i in tqdm(range(len(tweets['words']))):\n",
    "    tweets['words'][i] = [stemmer.stem(word) for word in tweets['words'][i]]\n",
    "tweets.head(3)"
   ]
  },
  {
   "attachments": {},
   "cell_type": "markdown",
   "metadata": {},
   "source": [
    "### 2.3 Feature Extraction"
   ]
  },
  {
   "cell_type": "code",
   "execution_count": 84,
   "metadata": {},
   "outputs": [],
   "source": [
    "# Copy tweets to a new dataframe\n",
    "tweets_bof = tweets.copy()\n",
    "\n",
    "from sklearn.feature_extraction.text import CountVectorizer\n",
    "\n",
    "# Create a list of words from the words column\n",
    "words = tweets_bof['words'].tolist()\n",
    "words = [' '.join(word) for word in words]\n",
    "\n",
    "vectorizer = CountVectorizer()\n",
    "X = vectorizer.fit_transform(words)"
   ]
  },
  {
   "attachments": {},
   "cell_type": "markdown",
   "metadata": {},
   "source": [
    "Using the raw X for our bag of words needs allocation of `3.08TiB` for an array with shape `(1598315, 265119)`. This is too much for my computer to handle. Instead, we will use the preprocessed X."
   ]
  },
  {
   "cell_type": "code",
   "execution_count": 85,
   "metadata": {},
   "outputs": [
    {
     "name": "stdout",
     "output_type": "stream",
     "text": [
      "43\n"
     ]
    },
    {
     "data": {
      "text/plain": [
       "matrix([[ 626286,  143187,   11844, ..., 1330587,  293167, 1381606]])"
      ]
     },
     "execution_count": 85,
     "metadata": {},
     "output_type": "execute_result"
    }
   ],
   "source": [
    "# Find maximum element in X\n",
    "print(X.max())\n",
    "# Find the row responsible for the maximum element\n",
    "X.argmax(axis=0)\n"
   ]
  },
  {
   "cell_type": "code",
   "execution_count": 89,
   "metadata": {},
   "outputs": [
    {
     "data": {
      "text/plain": [
       "'awake with 1,000,000,000,000,000,000,000,000,000,000,000,000,000 things to do '"
      ]
     },
     "execution_count": 89,
     "metadata": {},
     "output_type": "execute_result"
    }
   ],
   "source": [
    "tweets_bof.iloc[143187, 3]"
   ]
  },
  {
   "cell_type": "code",
   "execution_count": 79,
   "metadata": {},
   "outputs": [
    {
     "data": {
      "text/plain": [
       "0"
      ]
     },
     "execution_count": 79,
     "metadata": {},
     "output_type": "execute_result"
    }
   ],
   "source": [
    "X[819633, 0]"
   ]
  },
  {
   "cell_type": "code",
   "execution_count": 81,
   "metadata": {},
   "outputs": [
    {
     "data": {
      "text/plain": [
       "array(['00', '000', '0000', ..., 'øºøµø', 'øºù', 'ù¾ø'], dtype=object)"
      ]
     },
     "execution_count": 81,
     "metadata": {},
     "output_type": "execute_result"
    }
   ],
   "source": [
    "vectorizer.get_feature_names_out()"
   ]
  },
  {
   "cell_type": "code",
   "execution_count": 83,
   "metadata": {},
   "outputs": [
    {
     "data": {
      "text/plain": [
       "10000"
      ]
     },
     "execution_count": 83,
     "metadata": {},
     "output_type": "execute_result"
    }
   ],
   "source": [
    "# Choose the best 10000 features\n",
    "vectorizer = CountVectorizer(max_features=10000)\n",
    "X = vectorizer.fit_transform(words)\n",
    "len(vectorizer.get_feature_names_out())"
   ]
  },
  {
   "cell_type": "code",
   "execution_count": null,
   "metadata": {},
   "outputs": [],
   "source": []
  }
 ],
 "metadata": {
  "kernelspec": {
   "display_name": "Python 3",
   "language": "python",
   "name": "python3"
  },
  "language_info": {
   "codemirror_mode": {
    "name": "ipython",
    "version": 3
   },
   "file_extension": ".py",
   "mimetype": "text/x-python",
   "name": "python",
   "nbconvert_exporter": "python",
   "pygments_lexer": "ipython3",
   "version": "3.8.0"
  },
  "orig_nbformat": 4,
  "vscode": {
   "interpreter": {
    "hash": "ce1b09b10ddf3c0c2840855cfede39e38bc763229e16b97ef7234a53f605a92b"
   }
  }
 },
 "nbformat": 4,
 "nbformat_minor": 2
}
